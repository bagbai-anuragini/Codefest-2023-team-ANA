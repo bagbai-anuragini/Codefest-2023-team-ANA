{
  "nbformat": 4,
  "nbformat_minor": 0,
  "metadata": {
    "colab": {
      "provenance": []
    },
    "kernelspec": {
      "name": "python3",
      "display_name": "Python 3"
    },
    "language_info": {
      "name": "python"
    }
  },
  "cells": [
    {
      "cell_type": "code",
      "execution_count": 7,
      "metadata": {
        "colab": {
          "base_uri": "https://localhost:8080/",
          "height": 177
        },
        "id": "nFn_jlkuz2tg",
        "outputId": "1dabef56-6f25-4429-88a4-aebb8b436fd4"
      },
      "outputs": [
        {
          "output_type": "stream",
          "name": "stdout",
          "text": [
            "Enter Date:12/12/12\n",
            "Enter Patient's Name Here :pat name\n",
            "Enter Doctors Name Here :doc name\n",
            "How many lines of summary?3\n",
            "They become high in calories, high in cholesterol, low in healthy nutrients, high in sodium mineral, high in sugar, starch, unhealthy fat, lack of protein and lack of dietary fibers.\n",
            "It is found according to the Centres for Disease Control and Prevention that Kids and children eating junk food are more prone to the type-2 diabetes.\n",
            "Eating junk food daily lead us to the nutritional deficiencies in the body because it is lack of essential nutrients, vitamins, iron, minerals and dietary fibers.\n"
          ]
        },
        {
          "output_type": "execute_result",
          "data": {
            "text/plain": [
              "''"
            ],
            "application/vnd.google.colaboratory.intrinsic+json": {
              "type": "string"
            }
          },
          "metadata": {},
          "execution_count": 7
        }
      ],
      "source": [
        "# Import the summarizer\n",
        "from sumy.summarizers.luhn import LuhnSummarizer\n",
        "ch = 50\n",
        "## input\n",
        "original_text = (\"Junk foods taste good that’s why it is mostly liked by everyone of any age group especially kids and school going children. They generally ask for the junk food daily because they have been trend so by their parents from the childhood. They never have been discussed by their parents about the harmful effects of junk foods over health. According to the research by scientists, it has been found that junk foods have negative effects on the health in many ways. They are generally fried food found in the market in the packets. They become high in calories, high in cholesterol, low in healthy nutrients, high in sodium mineral, high in sugar, starch, unhealthy fat, lack of protein and lack of dietary fibers. Processed and junk foods are the means of rapid and unhealthy weight gain and negatively impact the whole body throughout the life. It makes able a person to gain excessive weight which is called as obesity. Junk foods tastes good and looks good however do not fulfil the healthy calorie requirement of the body. Some of the foods like french fries, fried foods, pizza, burgers, candy, soft drinks, baked goods, ice cream, cookies, etc are the example of high-sugar and high-fat containing foods. It is found according to the Centres for Disease Control and Prevention that Kids and children eating junk food are more prone to the type-2 diabetes. In type-2 diabetes our body become unable to regulate blood sugar level. Risk of getting this disease is increasing as one become more obese or overweight. It increases the risk of kidney failure. Eating junk food daily lead us to the nutritional deficiencies in the body because it is lack of essential nutrients, vitamins, iron, minerals and dietary fibers. It increases risk of cardiovascular diseases because it is rich in saturated fat, sodium and bad cholesterol. High sodium and bad cholesterol diet increases blood pressure and overloads the heart functioning. One who like junk food develop more risk to put on extra weight and become fatter and unhealthier. Junk foods contain high level carbohydrate which spike blood sugar level and make person more lethargic, sleepy and less active and alert. Reflexes and senses of the people eating this food become dull day by day thus they live more sedentary life. Junk foods are the source of constipation and other disease like diabetes, heart ailments, clogged arteries, heart attack, strokes, etc because of being poor in nutrition. Junk food is the easiest way to gain unhealthy weight. The amount of fats and sugar in the food makes you gain weight rapidly. However, this is not a healthy weight. It is more of fats and cholesterol which will have a harmful impact on your health. Junk food is also one of the main reasons for the increase in obesity nowadays.This food only looks and tastes good, other than that, it has no positive points. The amount of calorie your body requires to stay fit is not fulfilled by this food. For instance, foods like French fries, burgers, candy, and cookies, all have high amounts of sugar and fats. Therefore, this can result in long-term illnesses like diabetes and high blood pressure. This may also result in kidney failure. Above all, you can get various nutritional deficiencies when you don’t consume the essential nutrients, vitamins, minerals and more. You become prone to cardiovascular diseases due to the consumption of bad cholesterol and fat plus sodium. In other words, all this interferes with the functioning of your heart. Furthermore, junk food contains a higher level of carbohydrates. It will instantly spike your blood sugar levels. This will result in lethargy, inactiveness, and sleepiness. A person reflex becomes dull overtime and they lead an inactive life. To make things worse, junk food also clogs your arteries and increases the risk of a heart attack. Therefore, it must be avoided at the first instance to save your life from becoming ruined.The main problem with junk food is that people don’t realize its ill effects now. When the time comes, it is too late. Most importantly, the issue is that it does not impact you instantly. It works on your overtime; you will face the consequences sooner or later. Thus, it is better to stop now.You can avoid junk food by encouraging your children from an early age to eat green vegetables. Their taste buds must be developed as such that they find healthy food tasty. Moreover, try to mix things up. Do not serve the same green vegetable daily in the same style. Incorporate different types of healthy food in their diet following different recipes. This will help them to try foods at home rather than being attracted to junk food.In short, do not deprive them completely of it as that will not help. Children will find one way or the other to have it. Make sure you give them junk food in limited quantities and at healthy periods of time. \")\n",
        "date = input(\"Enter Date:\")\n",
        "p = input(\"Enter Patient's Name Here :\")\n",
        "d = input(\"Enter Doctors Name Here :\")\n",
        "s = input(\"How many lines of summary?\")\n",
        "# Creating the parser\n",
        "\n",
        "from sumy.nlp.tokenizers import Tokenizer\n",
        "from sumy.parsers.plaintext import PlaintextParser\n",
        "parser=PlaintextParser.from_string(original_text,Tokenizer('english'))\n",
        "\n",
        "#  Creating the summarizer\n",
        "luhn_summarizer=LuhnSummarizer()\n",
        "luhn_summary=luhn_summarizer(parser.document,sentences_count=s)\n",
        "\n",
        "# Printing the summary\n",
        "for sentence in luhn_summary:\n",
        "  print(sentence)\n",
        "\n",
        "\n",
        "# Custom class to overwrite the header and footer methods\n",
        "## text to pdf output  \n",
        "from fpdf import FPDF\n",
        "u = str(sentence)\n",
        "\n",
        "class PDF(FPDF):\n",
        "    def __init__(self):\n",
        "        super().__init__()\n",
        "    def header(self):\n",
        "        self.set_font('Arial', '', 12)\n",
        "        pdf.set_fill_color(r= 0, g= 242, b = 247)\n",
        "        self.cell(0, 10, 'Doctors Advice', 1, 1, 'C', fill=True)\n",
        "    def footer(self):\n",
        "        self.set_y(-15)\n",
        "        self.set_font('Arial', '', 12)\n",
        "        pdf.set_fill_color(r= 0, g= 242, b = 247)\n",
        "        self.cell(0, 10, '---end of page---', 1, 0, 'C', fill=True)\n",
        "pdf = PDF() # Instance of custom class\n",
        "pdf.add_page()\n",
        "pdf.set_font('Arial', 'B', 24)\n",
        "pdf.cell(w=0, h=20, txt=\"Doctors Advice\", ln=1)\n",
        "pdf.set_font('Arial', '', 16)\n",
        "pdf.cell(w=20, h=ch, txt=\"Date: \", ln=0)\n",
        "pdf.cell(w=30, h=ch, txt= date , ln=1)\n",
        "pdf.cell(w=40, h=ch, txt=\"Doctor Name: \", ln=0)\n",
        "pdf.cell(w=30, h=ch, txt= d, ln=1)\n",
        "pdf.cell(w=40, h=ch, txt=\"Patient Name: \", ln=0)\n",
        "pdf.cell(w=30, h=ch, txt= p, ln=1)\n",
        "pdf.ln(ch)\n",
        "pdf.multi_cell(w=0, h=5, txt=u)\n",
        "pdf.output(f'./doctors_advice.pdf', 'F')"
      ]
    }
  ]
}